{
 "cells": [
  {
   "cell_type": "markdown",
   "metadata": {},
   "source": [
    "## Data wrangling"
   ]
  },
  {
   "cell_type": "code",
   "execution_count": 1,
   "metadata": {},
   "outputs": [
    {
     "data": {
      "text/plain": [
       "DataTransformerRegistry.enable('json')"
      ]
     },
     "execution_count": 1,
     "metadata": {},
     "output_type": "execute_result"
    }
   ],
   "source": [
    "# Load packages\n",
    "\n",
    "import pandas as pd\n",
    "import altair as alt\n",
    "import geopandas as gpd\n",
    "import json\n",
    "from shapely.geometry import Point, Polygon\n",
    "from shapely.ops import cascaded_union\n",
    "import shapely.wkt\n",
    "import pandas_profiling\n",
    "\n",
    "# Need to enable this to allow work with larger datasets (https://altair-viz.github.io/user_guide/faq.html)\n",
    "alt.data_transformers.enable('json')\n",
    "\n",
    "# source: https://automating-gis-processes.github.io/2017/lessons/L3/point-in-polygon.html"
   ]
  },
  {
   "cell_type": "code",
   "execution_count": 2,
   "metadata": {},
   "outputs": [],
   "source": [
    "url = 'https://data.cityofnewyork.us/api/views/vfnx-vebw/rows.csv'\n",
    "\n",
    "squirrel_data = pd.read_csv(url, usecols = ['X', 'Y', 'Unique Squirrel ID', 'Hectare', 'Shift', 'Date',\n",
    "       'Hectare Squirrel Number', 'Age', 'Primary Fur Color', 'Location', 'Kuks', 'Quaas', 'Moans', 'Running', 'Chasing', 'Climbing', 'Eating',\n",
    "       'Foraging', 'Approaches', 'Indifferent', 'Runs from', 'Lat/Long'])\n",
    "# source (data): https://catalog.data.gov/dataset/2018-central-park-squirrel-census-hectare-data\n",
    "\n",
    "# Replace NaN with \"Unknown\"\n",
    "squirrel_data = squirrel_data.fillna(value = \"Unknown\")\n",
    "# Convert lat/long column of squirrel data from string to point\n",
    "squirrel_data[\"Lat/Long\"] = squirrel_data[\"Lat/Long\"].apply(shapely.wkt.loads)"
   ]
  },
  {
   "cell_type": "code",
   "execution_count": 3,
   "metadata": {},
   "outputs": [],
   "source": [
    "# Load data needed to map data on park map\n",
    "geojson_filepath = '../data/central_park_geo.geojson'\n",
    "\n",
    "def open_geojson(path):\n",
    "    \"\"\"\n",
    "    Opens a geojson file at \"path\" filepath\n",
    "    \"\"\"\n",
    "    with open(path) as json_data:\n",
    "        d = json.load(json_data)\n",
    "    return d\n",
    "\n",
    "def get_geopandas_df(path):\n",
    "    \"\"\"\n",
    "    Creates geopandas dataframe from geeojson file \n",
    "    at \"path\" filepath\n",
    "    \"\"\"\n",
    "    open_json = open_geojson(path)\n",
    "    gdf = gpd.GeoDataFrame.from_features((open_json))\n",
    "    return gdf\n",
    "\n",
    "# Create geopandas dataframe from Central Park geoJson file\n",
    "gdf = get_geopandas_df(geojson_filepath)\n",
    "\n",
    "\n",
    "\n",
    "# source (code): https://medium.com/dataexplorations/creating-choropleth-maps-in-altair-eeb7085779a1\n",
    "# source (map data): https://data.cityofnewyork.us/City-Government/Parks-Zones/rjaj-zgq7"
   ]
  },
  {
   "cell_type": "code",
   "execution_count": null,
   "metadata": {},
   "outputs": [],
   "source": []
  }
 ],
 "metadata": {
  "kernelspec": {
   "display_name": "Python 3",
   "language": "python",
   "name": "python3"
  },
  "language_info": {
   "codemirror_mode": {
    "name": "ipython",
    "version": 3
   },
   "file_extension": ".py",
   "mimetype": "text/x-python",
   "name": "python",
   "nbconvert_exporter": "python",
   "pygments_lexer": "ipython3",
   "version": "3.7.5"
  }
 },
 "nbformat": 4,
 "nbformat_minor": 4
}
